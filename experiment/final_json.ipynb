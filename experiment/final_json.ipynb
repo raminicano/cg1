{
 "cells": [
  {
   "cell_type": "code",
   "execution_count": 1,
   "metadata": {},
   "outputs": [],
   "source": [
    "import pandas as pd\n",
    "import json\n",
    "df = pd.read_csv('../data/data_xy.csv', index_col=0)"
   ]
  },
  {
   "cell_type": "code",
   "execution_count": 3,
   "metadata": {},
   "outputs": [],
   "source": [
    "required_columns = [\n",
    "    '상권_코드_명', '서비스_업종_코드_명', '자치구_코드_명', '행정동_코드_명', '경도', '위도',\n",
    "    '여성_매출_금액', '남성_매출_금액', '연령대_10_매출_금액', '연령대_20_매출_금액',\n",
    "    '연령대_30_매출_금액', '연령대_40_매출_금액', '연령대_50_매출_금액', '연령대_60_이상_매출_금액', '기준_년분기_코드'\n",
    "]\n",
    "\n",
    "filtered_data = df[required_columns]"
   ]
  },
  {
   "cell_type": "code",
   "execution_count": 5,
   "metadata": {},
   "outputs": [],
   "source": [
    "\n",
    "\n",
    "def convert_to_json(df):\n",
    "    grouped_data = df.groupby(['상권_코드_명', '서비스_업종_코드_명', '기준_년분기_코드'])\n",
    "    json_output = []\n",
    "\n",
    "    for (market, service, quarter), group in grouped_data:\n",
    "        sales_data = {\n",
    "            \"여성_매출_금액\": group['여성_매출_금액'].sum(),\n",
    "            \"남성_매출_금액\": group['남성_매출_금액'].sum(),\n",
    "            \"연령대_10_매출_금액\": group['연령대_10_매출_금액'].sum(),\n",
    "            \"연령대_20_매출_금액\": group['연령대_20_매출_금액'].sum(),\n",
    "            \"연령대_30_매출_금액\": group['연령대_30_매출_금액'].sum(),\n",
    "            \"연령대_40_매출_금액\": group['연령대_40_매출_금액'].sum(),\n",
    "            \"연령대_50_매출_금액\": group['연령대_50_매출_금액'].sum(),\n",
    "            \"연령대_60_이상_매출_금액\": group['연령대_60_이상_매출_금액'].sum(),\n",
    "        }\n",
    "        entry = {\n",
    "            \"상권_코드_명\": market,\n",
    "            \"서비스_업종_코드_명\": service,\n",
    "            \"기준_년분기_코드\" : quarter,\n",
    "            \"자치구_코드_명\": group['자치구_코드_명'].iloc[0],\n",
    "            \"행정동_코드_명\": group['행정동_코드_명'].iloc[0],\n",
    "            \"경도\": group['경도'].iloc[0],\n",
    "            \"위도\": group['위도'].iloc[0],\n",
    "            \"매출액\": sales_data\n",
    "        }\n",
    "        json_output.append(entry)\n",
    "    \n",
    "    return json_output\n",
    "\n",
    "\n",
    "json_data = convert_to_json(filtered_data)\n"
   ]
  },
  {
   "cell_type": "code",
   "execution_count": 6,
   "metadata": {},
   "outputs": [
    {
     "data": {
      "text/plain": [
       "{'상권_코드_명': '4.19민주묘지역 2번',\n",
       " '서비스_업종_코드_명': '미용실',\n",
       " '기준_년분기_코드': 20221,\n",
       " '자치구_코드_명': '강북구',\n",
       " '행정동_코드_명': '우이동',\n",
       " '경도': 127.01260072039511,\n",
       " '위도': 37.64943719463744,\n",
       " '매출액': {'여성_매출_금액': 14866246.0,\n",
       "  '남성_매출_금액': 22968431.0,\n",
       "  '연령대_10_매출_금액': 349684,\n",
       "  '연령대_20_매출_금액': 5635745,\n",
       "  '연령대_30_매출_금액': 9080136.0,\n",
       "  '연령대_40_매출_금액': 12744830.0,\n",
       "  '연령대_50_매출_금액': 6807187.0,\n",
       "  '연령대_60_이상_매출_금액': 3217095.0}}"
      ]
     },
     "execution_count": 6,
     "metadata": {},
     "output_type": "execute_result"
    }
   ],
   "source": [
    "json_data[0]"
   ]
  },
  {
   "cell_type": "code",
   "execution_count": 7,
   "metadata": {},
   "outputs": [
    {
     "data": {
      "text/plain": [
       "83573"
      ]
     },
     "execution_count": 7,
     "metadata": {},
     "output_type": "execute_result"
    }
   ],
   "source": [
    "len(json_data)"
   ]
  },
  {
   "cell_type": "code",
   "execution_count": 6,
   "metadata": {},
   "outputs": [],
   "source": [
    "import numpy as np\n",
    "\n",
    "# 데이터 타입을 JSON 직렬화 가능한 형태로 변환하는 함수\n",
    "def convert_types(obj):\n",
    "    if isinstance(obj, np.integer):\n",
    "        return int(obj)\n",
    "    elif isinstance(obj, np.floating):\n",
    "        return float(obj)\n",
    "    elif isinstance(obj, np.ndarray):\n",
    "        return obj.tolist()\n",
    "    else:\n",
    "        return obj"
   ]
  },
  {
   "cell_type": "code",
   "execution_count": 9,
   "metadata": {},
   "outputs": [],
   "source": [
    "json_file_path = '../data/sales_data.json'\n",
    "with open(json_file_path, 'w') as f:\n",
    "    json.dump(json_data, f, ensure_ascii=False, indent=2, default=convert_types)\n"
   ]
  },
  {
   "cell_type": "markdown",
   "metadata": {},
   "source": [
    "# 형식 맞추기"
   ]
  },
  {
   "cell_type": "code",
   "execution_count": 1,
   "metadata": {},
   "outputs": [],
   "source": [
    "import json"
   ]
  },
  {
   "cell_type": "code",
   "execution_count": 2,
   "metadata": {},
   "outputs": [],
   "source": [
    "file_path = '../data/sales_data.json'\n",
    "with open(file_path, 'r', encoding='utf-8') as file:\n",
    "    data = json.load(file)\n"
   ]
  },
  {
   "cell_type": "code",
   "execution_count": 3,
   "metadata": {},
   "outputs": [],
   "source": [
    "data  = { 'data' : data}"
   ]
  },
  {
   "cell_type": "code",
   "execution_count": 7,
   "metadata": {},
   "outputs": [],
   "source": [
    "json_file_path = '../data/data.json'\n",
    "with open(json_file_path, 'w') as f:\n",
    "    json.dump(data, f, ensure_ascii=False, indent=2, default=convert_types)"
   ]
  },
  {
   "cell_type": "code",
   "execution_count": null,
   "metadata": {},
   "outputs": [],
   "source": []
  }
 ],
 "metadata": {
  "kernelspec": {
   "display_name": "cg",
   "language": "python",
   "name": "python3"
  },
  "language_info": {
   "codemirror_mode": {
    "name": "ipython",
    "version": 3
   },
   "file_extension": ".py",
   "mimetype": "text/x-python",
   "name": "python",
   "nbconvert_exporter": "python",
   "pygments_lexer": "ipython3",
   "version": "3.8.18"
  }
 },
 "nbformat": 4,
 "nbformat_minor": 2
}
