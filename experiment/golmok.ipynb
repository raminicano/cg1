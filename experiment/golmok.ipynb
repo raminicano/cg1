{
 "cells": [
  {
   "cell_type": "code",
   "execution_count": 1,
   "metadata": {},
   "outputs": [],
   "source": [
    "import requests"
   ]
  },
  {
   "cell_type": "code",
   "execution_count": 2,
   "metadata": {},
   "outputs": [],
   "source": [
    "# URL 설정\n",
    "url = 'https://golmok.seoul.go.kr/region/selectStoreCount.json'\n",
    "\n",
    "# POST 요청에 사용할 데이터\n",
    "payload = {\n",
    "    'stdrYyCd': '2023',\n",
    "    'stdrSlctQu': 'sameQu',\n",
    "    'stdrQuCd': '4',\n",
    "    'stdrMnCd': '202312',\n",
    "    'selectTerm': 'quarter',\n",
    "    'svcIndutyCdL': 'CS100000',\n",
    "    'svcIndutyCdM': 'CS100001',\n",
    "    'stdrSigngu': '11',\n",
    "    'selectInduty': '1',\n",
    "    'infoCategory': 'store'\n",
    "}\n",
    "\n",
    "# POST 요청 보내기\n",
    "response = requests.post(url, data=payload)"
   ]
  },
  {
   "cell_type": "code",
   "execution_count": 6,
   "metadata": {},
   "outputs": [],
   "source": [
    "import json"
   ]
  },
  {
   "cell_type": "code",
   "execution_count": 7,
   "metadata": {},
   "outputs": [],
   "source": [
    "json_str = response.text"
   ]
  },
  {
   "cell_type": "code",
   "execution_count": 8,
   "metadata": {},
   "outputs": [],
   "source": [
    "data = json.loads(json_str)"
   ]
  },
  {
   "cell_type": "code",
   "execution_count": 10,
   "metadata": {},
   "outputs": [
    {
     "data": {
      "text/plain": [
       "451"
      ]
     },
     "execution_count": 10,
     "metadata": {},
     "output_type": "execute_result"
    }
   ],
   "source": [
    "len(data)"
   ]
  },
  {
   "cell_type": "code",
   "execution_count": 11,
   "metadata": {},
   "outputs": [
    {
     "data": {
      "text/plain": [
       "{'NM': '서울시 전체',\n",
       " 'CD': '11',\n",
       " 'GUBUN': 'si',\n",
       " 'FIRST_TOT': 63030,\n",
       " 'FIRST_NOR': 57128,\n",
       " 'FIRST_FRC': 5902,\n",
       " 'SECOND_TOT': 61173,\n",
       " 'SECOND_NOR': 55631,\n",
       " 'SECOND_FRC': 5542,\n",
       " 'THIRD_TOT': 59917,\n",
       " 'THIRD_NOR': 54857,\n",
       " 'THIRD_FRC': 5060}"
      ]
     },
     "execution_count": 11,
     "metadata": {},
     "output_type": "execute_result"
    }
   ],
   "source": [
    "data[0]"
   ]
  },
  {
   "cell_type": "code",
   "execution_count": 12,
   "metadata": {},
   "outputs": [
    {
     "data": {
      "text/plain": [
       "{'NM': '종로구',\n",
       " 'CD': '11110',\n",
       " 'GUBUN': 'gu',\n",
       " 'FIRST_TOT': 2930,\n",
       " 'FIRST_NOR': 2710,\n",
       " 'FIRST_FRC': 220,\n",
       " 'SECOND_TOT': 2875,\n",
       " 'SECOND_NOR': 2665,\n",
       " 'SECOND_FRC': 210,\n",
       " 'THIRD_TOT': 2808,\n",
       " 'THIRD_NOR': 2623,\n",
       " 'THIRD_FRC': 185}"
      ]
     },
     "execution_count": 12,
     "metadata": {},
     "output_type": "execute_result"
    }
   ],
   "source": [
    "data[1]"
   ]
  },
  {
   "cell_type": "code",
   "execution_count": 13,
   "metadata": {},
   "outputs": [
    {
     "data": {
      "text/plain": [
       "{'NM': '청운효자동',\n",
       " 'CD': '11110515',\n",
       " 'GUBUN': 'dong',\n",
       " 'FIRST_TOT': 94,\n",
       " 'FIRST_NOR': 93,\n",
       " 'FIRST_FRC': 1,\n",
       " 'SECOND_TOT': 93,\n",
       " 'SECOND_NOR': 92,\n",
       " 'SECOND_FRC': 1,\n",
       " 'THIRD_TOT': 91,\n",
       " 'THIRD_NOR': 91,\n",
       " 'THIRD_FRC': 0}"
      ]
     },
     "execution_count": 13,
     "metadata": {},
     "output_type": "execute_result"
    }
   ],
   "source": [
    "data[2]"
   ]
  },
  {
   "cell_type": "code",
   "execution_count": null,
   "metadata": {},
   "outputs": [],
   "source": [
    "stdrYyCd: 2023\n",
    "stdrSlctQu: sameQu\n",
    "stdrQuCd: 4\n",
    "stdrMnCd: 202312\n",
    "selectTerm: quarter\n",
    "svcIndutyCdL: CS100000\n",
    "svcIndutyCdM: CS100001\n",
    "stdrSigngu: 11\n",
    "selectInduty: 1\n",
    "infoCategory: store\n",
    "\n",
    "\n",
    "stdrYyCd: 2023\n",
    "stdrSlctQu: sameQu\n",
    "stdrQuCd: 4\n",
    "stdrMnCd: 202312\n",
    "selectTerm: quarter\n",
    "svcIndutyCdL: CS100000\n",
    "svcIndutyCdM: CS100002\n",
    "stdrSigngu: 11\n",
    "selectInduty: 1\n",
    "infoCategory: store\n",
    "\n",
    "stdrYyCd: 2023\n",
    "stdrSlctQu: sameQu\n",
    "stdrQuCd: 4\n",
    "stdrMnCd: 202312\n",
    "selectTerm: quarter\n",
    "svcIndutyCdL: CS200000\n",
    "svcIndutyCdM: CS200001\n",
    "stdrSigngu: 11\n",
    "selectInduty: 1\n",
    "infoCategory: store"
   ]
  },
  {
   "cell_type": "code",
   "execution_count": null,
   "metadata": {},
   "outputs": [],
   "source": [
    "https://golmok.seoul.go.kr/region/selectSurvivalRate.json"
   ]
  },
  {
   "cell_type": "code",
   "execution_count": null,
   "metadata": {},
   "outputs": [],
   "source": []
  }
 ],
 "metadata": {
  "kernelspec": {
   "display_name": "cg",
   "language": "python",
   "name": "python3"
  },
  "language_info": {
   "codemirror_mode": {
    "name": "ipython",
    "version": 3
   },
   "file_extension": ".py",
   "mimetype": "text/x-python",
   "name": "python",
   "nbconvert_exporter": "python",
   "pygments_lexer": "ipython3",
   "version": "3.8.18"
  }
 },
 "nbformat": 4,
 "nbformat_minor": 2
}
