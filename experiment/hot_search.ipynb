{
 "cells": [
  {
   "cell_type": "code",
   "execution_count": 10,
   "metadata": {},
   "outputs": [],
   "source": [
    "import pandas as pd\n",
    "import requests\n",
    "from math import radians, cos, sin, sqrt, atan2"
   ]
  },
  {
   "cell_type": "code",
   "execution_count": 2,
   "metadata": {},
   "outputs": [],
   "source": [
    "df = pd.read_csv('./data/landmark_final.csv')"
   ]
  },
  {
   "cell_type": "code",
   "execution_count": 7,
   "metadata": {},
   "outputs": [
    {
     "data": {
      "text/plain": [
       "37.512027938"
      ]
     },
     "execution_count": 7,
     "metadata": {},
     "output_type": "execute_result"
    }
   ],
   "source": [
    "df[df['랜드마크'] == '강남 MICE 관광특구']['위도'].values[0]"
   ]
  },
  {
   "cell_type": "code",
   "execution_count": 8,
   "metadata": {},
   "outputs": [
    {
     "data": {
      "text/plain": [
       "127.0610582829"
      ]
     },
     "execution_count": 8,
     "metadata": {},
     "output_type": "execute_result"
    }
   ],
   "source": [
    "df[df['랜드마크'] == '강남 MICE 관광특구']['경도'].values[0]"
   ]
  },
  {
   "cell_type": "code",
   "execution_count": 11,
   "metadata": {},
   "outputs": [],
   "source": [
    "def haversine(lat1, lon1, lat2, lon2):\n",
    "    R = 6371.0  # 지구의 반지름(km)\n",
    "    \n",
    "    dLat = radians(lat2 - lat1)\n",
    "    dLon = radians(lon2 - lon1)\n",
    "    a = sin(dLat/2)**2 + cos(radians(lat1)) * cos(radians(lat2)) * sin(dLon/2)**2\n",
    "    c = 2 * atan2(sqrt(a), sqrt(1 - a))\n",
    "\n",
    "    return R * c\n"
   ]
  },
  {
   "cell_type": "code",
   "execution_count": 12,
   "metadata": {},
   "outputs": [],
   "source": [
    "df['distance'] = df.apply(lambda row: haversine(37.512027938, 127.0610582829, row['위도'], row['경도']), axis=1)"
   ]
  },
  {
   "cell_type": "code",
   "execution_count": 13,
   "metadata": {},
   "outputs": [],
   "source": [
    "df_sorted = df.sort_values(by='distance')\n"
   ]
  },
  {
   "cell_type": "code",
   "execution_count": 14,
   "metadata": {},
   "outputs": [
    {
     "data": {
      "text/html": [
       "<div>\n",
       "<style scoped>\n",
       "    .dataframe tbody tr th:only-of-type {\n",
       "        vertical-align: middle;\n",
       "    }\n",
       "\n",
       "    .dataframe tbody tr th {\n",
       "        vertical-align: top;\n",
       "    }\n",
       "\n",
       "    .dataframe thead th {\n",
       "        text-align: right;\n",
       "    }\n",
       "</style>\n",
       "<table border=\"1\" class=\"dataframe\">\n",
       "  <thead>\n",
       "    <tr style=\"text-align: right;\">\n",
       "      <th></th>\n",
       "      <th>구</th>\n",
       "      <th>동</th>\n",
       "      <th>랜드마크</th>\n",
       "      <th>위도</th>\n",
       "      <th>경도</th>\n",
       "      <th>distance</th>\n",
       "    </tr>\n",
       "  </thead>\n",
       "  <tbody>\n",
       "    <tr>\n",
       "      <th>0</th>\n",
       "      <td>강남구</td>\n",
       "      <td>삼성동</td>\n",
       "      <td>강남 MICE 관광특구</td>\n",
       "      <td>37.512028</td>\n",
       "      <td>127.061058</td>\n",
       "      <td>0.000000</td>\n",
       "    </tr>\n",
       "    <tr>\n",
       "      <th>102</th>\n",
       "      <td>송파구</td>\n",
       "      <td>잠실동</td>\n",
       "      <td>잠실종합운동장</td>\n",
       "      <td>37.511118</td>\n",
       "      <td>127.072073</td>\n",
       "      <td>0.976819</td>\n",
       "    </tr>\n",
       "    <tr>\n",
       "      <th>33</th>\n",
       "      <td>강남구</td>\n",
       "      <td>삼성동</td>\n",
       "      <td>선릉역</td>\n",
       "      <td>37.506201</td>\n",
       "      <td>127.048333</td>\n",
       "      <td>1.296019</td>\n",
       "    </tr>\n",
       "    <tr>\n",
       "      <th>90</th>\n",
       "      <td>광진구</td>\n",
       "      <td>자양동</td>\n",
       "      <td>뚝섬한강공원</td>\n",
       "      <td>37.531182</td>\n",
       "      <td>127.066830</td>\n",
       "      <td>2.189863</td>\n",
       "    </tr>\n",
       "    <tr>\n",
       "      <th>41</th>\n",
       "      <td>강남구</td>\n",
       "      <td>역삼동</td>\n",
       "      <td>역삼역</td>\n",
       "      <td>37.501641</td>\n",
       "      <td>127.038771</td>\n",
       "      <td>2.280089</td>\n",
       "    </tr>\n",
       "    <tr>\n",
       "      <th>...</th>\n",
       "      <td>...</td>\n",
       "      <td>...</td>\n",
       "      <td>...</td>\n",
       "      <td>...</td>\n",
       "      <td>...</td>\n",
       "      <td>...</td>\n",
       "    </tr>\n",
       "    <tr>\n",
       "      <th>27</th>\n",
       "      <td>강북구</td>\n",
       "      <td>우이동</td>\n",
       "      <td>북한산우이역</td>\n",
       "      <td>37.662655</td>\n",
       "      <td>127.012713</td>\n",
       "      <td>17.282143</td>\n",
       "    </tr>\n",
       "    <tr>\n",
       "      <th>26</th>\n",
       "      <td>강서구</td>\n",
       "      <td>내발산동</td>\n",
       "      <td>발산역</td>\n",
       "      <td>37.557972</td>\n",
       "      <td>126.843736</td>\n",
       "      <td>19.831772</td>\n",
       "    </tr>\n",
       "    <tr>\n",
       "      <th>31</th>\n",
       "      <td>강서구</td>\n",
       "      <td>마곡동</td>\n",
       "      <td>서울식물원·마곡나루역</td>\n",
       "      <td>37.568337</td>\n",
       "      <td>126.835058</td>\n",
       "      <td>20.886855</td>\n",
       "    </tr>\n",
       "    <tr>\n",
       "      <th>83</th>\n",
       "      <td>강서구</td>\n",
       "      <td>마곡동</td>\n",
       "      <td>강서한강공원</td>\n",
       "      <td>37.584245</td>\n",
       "      <td>126.821704</td>\n",
       "      <td>22.577762</td>\n",
       "    </tr>\n",
       "    <tr>\n",
       "      <th>60</th>\n",
       "      <td>강서구</td>\n",
       "      <td>방화동</td>\n",
       "      <td>김포공항</td>\n",
       "      <td>37.564621</td>\n",
       "      <td>126.805917</td>\n",
       "      <td>23.243929</td>\n",
       "    </tr>\n",
       "  </tbody>\n",
       "</table>\n",
       "<p>115 rows × 6 columns</p>\n",
       "</div>"
      ],
      "text/plain": [
       "       구     동          랜드마크         위도          경도   distance\n",
       "0    강남구   삼성동  강남 MICE 관광특구  37.512028  127.061058   0.000000\n",
       "102  송파구   잠실동       잠실종합운동장  37.511118  127.072073   0.976819\n",
       "33   강남구   삼성동           선릉역  37.506201  127.048333   1.296019\n",
       "90   광진구   자양동        뚝섬한강공원  37.531182  127.066830   2.189863\n",
       "41   강남구   역삼동           역삼역  37.501641  127.038771   2.280089\n",
       "..   ...   ...           ...        ...         ...        ...\n",
       "27   강북구   우이동        북한산우이역  37.662655  127.012713  17.282143\n",
       "26   강서구  내발산동           발산역  37.557972  126.843736  19.831772\n",
       "31   강서구   마곡동   서울식물원·마곡나루역  37.568337  126.835058  20.886855\n",
       "83   강서구   마곡동        강서한강공원  37.584245  126.821704  22.577762\n",
       "60   강서구   방화동          김포공항  37.564621  126.805917  23.243929\n",
       "\n",
       "[115 rows x 6 columns]"
      ]
     },
     "execution_count": 14,
     "metadata": {},
     "output_type": "execute_result"
    }
   ],
   "source": [
    "df_sorted"
   ]
  },
  {
   "cell_type": "code",
   "execution_count": 21,
   "metadata": {},
   "outputs": [],
   "source": [
    "message = {\n",
    "    \"여유\" : \"사람이 몰려있을 가능성이 낮고 붐빔은 거의 느껴지지 않아요. 도보 이동이 자유로워요.\",\n",
    "    \"보통\" : \"사람이 몰려있을 수 있지만 크게 붐비지는 않아요. 도보 이동에 큰 제약이 없어요.\",\n",
    "    \"약간 붐빔\" : \"사람들이 몰려있을 가능성이 크고 붐빈다고 느낄 수 있어요. 인구밀도가 높은 구간에서는 도보 이동시 부딪힘이 발생할 수 있어요.\",\n",
    "    \"붐빔\" : \"사람들이 몰려있을 가능성이 매우 크고 많이 붐빈다고 느낄 수 있어요. 인구밀도가 높은 구간에서는 도보 이동시 부딪힘이 발생할 수 있어요.\"\n",
    "}"
   ]
  },
  {
   "cell_type": "code",
   "execution_count": 22,
   "metadata": {},
   "outputs": [],
   "source": [
    "congestion_levels = list(message.keys())"
   ]
  },
  {
   "cell_type": "code",
   "execution_count": 24,
   "metadata": {},
   "outputs": [],
   "source": [
    "current_index = congestion_levels.index('보통')"
   ]
  },
  {
   "cell_type": "code",
   "execution_count": 25,
   "metadata": {},
   "outputs": [
    {
     "name": "stdout",
     "output_type": "stream",
     "text": [
      "yes\n"
     ]
    }
   ],
   "source": [
    "if (current_index == 0) or (current_index == 1):\n",
    "    print('yes')"
   ]
  },
  {
   "cell_type": "code",
   "execution_count": null,
   "metadata": {},
   "outputs": [],
   "source": [
    "ㄴㄴㄴㄴㄴㄴㄴ"
   ]
  }
 ],
 "metadata": {
  "kernelspec": {
   "display_name": "cg",
   "language": "python",
   "name": "python3"
  },
  "language_info": {
   "codemirror_mode": {
    "name": "ipython",
    "version": 3
   },
   "file_extension": ".py",
   "mimetype": "text/x-python",
   "name": "python",
   "nbconvert_exporter": "python",
   "pygments_lexer": "ipython3",
   "version": "3.8.18"
  }
 },
 "nbformat": 4,
 "nbformat_minor": 2
}
