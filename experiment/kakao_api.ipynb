{
 "cells": [
  {
   "cell_type": "code",
   "execution_count": 5,
   "metadata": {},
   "outputs": [],
   "source": [
    "import requests, json\n",
    "import pandas as pd\n",
    "import time\n",
    " \n",
    "def get_location(address):\n",
    "    url = 'https://dapi.kakao.com/v2/local/search/address.json?query=' + address\n",
    "    api_json = json.loads(str(requests.get(url,headers=headers).text))\n",
    "    return api_json\n"
   ]
  },
  {
   "cell_type": "code",
   "execution_count": 6,
   "metadata": {},
   "outputs": [],
   "source": [
    "check = get_location('서울대입구역 2호선')"
   ]
  },
  {
   "cell_type": "code",
   "execution_count": 27,
   "metadata": {},
   "outputs": [],
   "source": [
    "def get_location(address):\n",
    "    url = 'https://dapi.kakao.com/v2/local/search/keyword.json'\n",
    "    headers = {\n",
    "    \"Authorization\": f\"KakaoAK {REST_API_KEY}\"\n",
    "    }\n",
    "    response = requests.get(url, headers=headers, params={'query': address}).json()\n",
    "\n",
    "    long = response['documents'][0]['x'] \n",
    "    lati = response['documents'][0]['y']\n",
    "    return long, lati\n"
   ]
  },
  {
   "cell_type": "code",
   "execution_count": 28,
   "metadata": {},
   "outputs": [],
   "source": [
    "long, lati = get_location('서울대입구역')"
   ]
  },
  {
   "cell_type": "code",
   "execution_count": 29,
   "metadata": {},
   "outputs": [
    {
     "data": {
      "text/plain": [
       "('126.952713197762', '37.4812845080678')"
      ]
     },
     "execution_count": 29,
     "metadata": {},
     "output_type": "execute_result"
    }
   ],
   "source": [
    "long, lati"
   ]
  },
  {
   "cell_type": "code",
   "execution_count": 35,
   "metadata": {},
   "outputs": [],
   "source": [
    "url = 'https://dapi.kakao.com/v2/local/search/keyword.json'\n",
    "headers = {\n",
    "\"Authorization\": f\"KakaoAK {REST_API_KEY}\"\n",
    "}\n",
    "response = requests.get(url, headers=headers, params={'query': '강남 MICE 관광특구'}).json()\n"
   ]
  },
  {
   "cell_type": "code",
   "execution_count": 36,
   "metadata": {},
   "outputs": [
    {
     "data": {
      "text/plain": [
       "{'documents': [],\n",
       " 'meta': {'is_end': True,\n",
       "  'pageable_count': 0,\n",
       "  'same_name': {'keyword': 'MICE 관광특구',\n",
       "   'region': [],\n",
       "   'selected_region': '서울 강남구'},\n",
       "  'total_count': 0}}"
      ]
     },
     "execution_count": 36,
     "metadata": {},
     "output_type": "execute_result"
    }
   ],
   "source": [
    "response"
   ]
  },
  {
   "cell_type": "code",
   "execution_count": null,
   "metadata": {},
   "outputs": [],
   "source": [
    "def get_location(address):\n",
    "    url = 'https://dapi.kakao.com/v2/local/geo/coord2address.json'\n",
    "    headers = {\n",
    "    \"Authorization\": f\"KakaoAK {REST_API_KEY}\"\n",
    "    }\n",
    "    response = requests.get(url, headers=headers, params={'query': address}).json()\n",
    "\n",
    "    long = response['documents'][0]['x'] \n",
    "    lati = response['documents'][0]['y']\n",
    "    return long, lati\n"
   ]
  },
  {
   "cell_type": "markdown",
   "metadata": {},
   "source": [
    "# 지도 거리 계산"
   ]
  },
  {
   "cell_type": "code",
   "execution_count": 30,
   "metadata": {},
   "outputs": [],
   "source": [
    "import numpy as np\n"
   ]
  },
  {
   "cell_type": "code",
   "execution_count": 57,
   "metadata": {},
   "outputs": [],
   "source": [
    "def haversine(lat1, lon1, lat2, lon2):\n",
    "    # 모든 위도 경도는 라디안 단위로 변환\n",
    "    lat1, lon1, lat2, lon2 = map(np.radians, [lat1, lon1, lat2, lon2])\n",
    "    \n",
    "    # 위도와 경도 차이\n",
    "    dlat = lat2 - lat1\n",
    "    dlon = lon2 - lon1\n",
    "    \n",
    "    # 허버사인 공식 사용\n",
    "    a = np.sin(dlat/2)**2 + np.cos(lat1) * np.cos(lat2) * np.sin(dlon/2)**2\n",
    "    c = 2 * np.arcsin(np.sqrt(a))\n",
    "    \n",
    "    # 6,371km는 지구의 반지름\n",
    "    km = 6371 * c\n",
    "    return km\n"
   ]
  },
  {
   "cell_type": "code",
   "execution_count": 32,
   "metadata": {},
   "outputs": [],
   "source": [
    "# 예제 데이터프레임 생성\n",
    "data = {'이름': ['장소A', '장소B', '장소C'],\n",
    "        '위도': [37.5665, 35.1796, 33.4507],\n",
    "        '경도': [126.9780, 129.0756, 126.5707]}\n",
    "df = pd.DataFrame(data)\n",
    "\n",
    "# 기준 위치 설정 (예: 서울 중심부)\n",
    "base_lat, base_lon = 37.5665, 126.9780\n",
    "\n",
    "# 각 위치와의 거리 계산\n",
    "df['거리'] = df.apply(lambda row: haversine(base_lat, base_lon, row['위도'], row['경도']), axis=1)\n"
   ]
  },
  {
   "cell_type": "code",
   "execution_count": 33,
   "metadata": {},
   "outputs": [
    {
     "name": "stdout",
     "output_type": "stream",
     "text": [
      "가장 가까운 위치: 장소A 거리: 0.0 km\n"
     ]
    }
   ],
   "source": [
    "closest_location = df.loc[df['거리'].idxmin()]\n",
    "print(\"가장 가까운 위치:\", closest_location['이름'], \"거리:\", closest_location['거리'], \"km\")\n"
   ]
  },
  {
   "cell_type": "code",
   "execution_count": 34,
   "metadata": {},
   "outputs": [
    {
     "data": {
      "text/plain": [
       "이름        장소A\n",
       "위도    37.5665\n",
       "경도    126.978\n",
       "거리        0.0\n",
       "Name: 0, dtype: object"
      ]
     },
     "execution_count": 34,
     "metadata": {},
     "output_type": "execute_result"
    }
   ],
   "source": [
    "closest_location"
   ]
  },
  {
   "cell_type": "markdown",
   "metadata": {},
   "source": [
    "## 실제 데이터 넣어보기"
   ]
  },
  {
   "cell_type": "code",
   "execution_count": 50,
   "metadata": {},
   "outputs": [],
   "source": [
    "# 키워드로 위도 경도 반환받기\n",
    "def get_location(address):\n",
    "    url = 'https://dapi.kakao.com/v2/local/search/keyword.json'\n",
    "    headers = {\n",
    "    \"Authorization\": f\"KakaoAK {REST_API_KEY}\"\n",
    "    }\n",
    "    response = requests.get(url, headers=headers, params={'query': address}).json()\n",
    "\n",
    "    long = response['documents'][0]['x'] \n",
    "    lati = response['documents'][0]['y']\n",
    "    return float(lati), float(long)\n"
   ]
  },
  {
   "cell_type": "code",
   "execution_count": 51,
   "metadata": {},
   "outputs": [],
   "source": [
    "long, lati = get_location('서울대입구역')"
   ]
  },
  {
   "cell_type": "code",
   "execution_count": 54,
   "metadata": {},
   "outputs": [],
   "source": [
    "df = pd.read_csv('./data/landmark_final.csv')"
   ]
  },
  {
   "cell_type": "code",
   "execution_count": 70,
   "metadata": {},
   "outputs": [],
   "source": [
    "df['거리'] = df.apply(lambda row: haversine(float(lati), float(long), row['위도'], row['경도']), axis=1)\n",
    "closest_location = df.loc[df['거리'].idxmin()]['랜드마크']\n"
   ]
  },
  {
   "cell_type": "code",
   "execution_count": 71,
   "metadata": {},
   "outputs": [
    {
     "data": {
      "text/plain": [
       "'서울대입구역'"
      ]
     },
     "execution_count": 71,
     "metadata": {},
     "output_type": "execute_result"
    }
   ],
   "source": [
    "closest_location"
   ]
  },
  {
   "cell_type": "code",
   "execution_count": 73,
   "metadata": {},
   "outputs": [],
   "source": [
    "url = f\"http://openapi.seoul.go.kr:8088/{api_key}/json/citydata/1/2/{closest_location}\"\n",
    "response = requests.get(url)\n",
    "data = json.loads(response.text)"
   ]
  },
  {
   "cell_type": "code",
   "execution_count": 75,
   "metadata": {},
   "outputs": [
    {
     "data": {
      "text/plain": [
       "{'AREA_CONGEST_LVL': '보통',\n",
       " 'AREA_CONGEST_MSG': '사람이 몰려있을 수 있지만 크게 붐비지는 않아요. 도보 이동에 큰 제약이 없어요.',\n",
       " 'AREA_PPLTN_MIN': '20000',\n",
       " 'AREA_PPLTN_MAX': '22000',\n",
       " 'MALE_PPLTN_RATE': '49.5',\n",
       " 'FEMALE_PPLTN_RATE': '50.5',\n",
       " 'PPLTN_RATE_0': '1.4',\n",
       " 'PPLTN_RATE_10': '7.1',\n",
       " 'PPLTN_RATE_20': '37.0',\n",
       " 'PPLTN_RATE_30': '20.1',\n",
       " 'PPLTN_RATE_40': '11.8',\n",
       " 'PPLTN_RATE_50': '10.6',\n",
       " 'PPLTN_RATE_60': '7.1',\n",
       " 'PPLTN_RATE_70': '5.0',\n",
       " 'RESNT_PPLTN_RATE': '33.4',\n",
       " 'NON_RESNT_PPLTN_RATE': '66.6',\n",
       " 'REPLACE_YN': 'N',\n",
       " 'PPLTN_TIME': '2024-04-25 20:00',\n",
       " 'FCST_YN': 'Y',\n",
       " 'FCST_PPLTN': [{'FCST_TIME': '2024-04-25 21:00',\n",
       "   'FCST_CONGEST_LVL': '붐빔',\n",
       "   'FCST_PPLTN_MIN': '20000',\n",
       "   'FCST_PPLTN_MAX': '22000'},\n",
       "  {'FCST_TIME': '2024-04-25 22:00',\n",
       "   'FCST_CONGEST_LVL': '붐빔',\n",
       "   'FCST_PPLTN_MIN': '20000',\n",
       "   'FCST_PPLTN_MAX': '22000'},\n",
       "  {'FCST_TIME': '2024-04-25 23:00',\n",
       "   'FCST_CONGEST_LVL': '약간 붐빔',\n",
       "   'FCST_PPLTN_MIN': '20000',\n",
       "   'FCST_PPLTN_MAX': '22000'},\n",
       "  {'FCST_TIME': '2024-04-26 00:00',\n",
       "   'FCST_CONGEST_LVL': '약간 붐빔',\n",
       "   'FCST_PPLTN_MIN': '20000',\n",
       "   'FCST_PPLTN_MAX': '22000'},\n",
       "  {'FCST_TIME': '2024-04-26 01:00',\n",
       "   'FCST_CONGEST_LVL': '약간 붐빔',\n",
       "   'FCST_PPLTN_MIN': '20000',\n",
       "   'FCST_PPLTN_MAX': '22000'},\n",
       "  {'FCST_TIME': '2024-04-26 02:00',\n",
       "   'FCST_CONGEST_LVL': '보통',\n",
       "   'FCST_PPLTN_MIN': '18000',\n",
       "   'FCST_PPLTN_MAX': '20000'},\n",
       "  {'FCST_TIME': '2024-04-26 03:00',\n",
       "   'FCST_CONGEST_LVL': '보통',\n",
       "   'FCST_PPLTN_MIN': '18000',\n",
       "   'FCST_PPLTN_MAX': '20000'},\n",
       "  {'FCST_TIME': '2024-04-26 04:00',\n",
       "   'FCST_CONGEST_LVL': '보통',\n",
       "   'FCST_PPLTN_MIN': '18000',\n",
       "   'FCST_PPLTN_MAX': '20000'},\n",
       "  {'FCST_TIME': '2024-04-26 05:00',\n",
       "   'FCST_CONGEST_LVL': '보통',\n",
       "   'FCST_PPLTN_MIN': '18000',\n",
       "   'FCST_PPLTN_MAX': '20000'},\n",
       "  {'FCST_TIME': '2024-04-26 06:00',\n",
       "   'FCST_CONGEST_LVL': '보통',\n",
       "   'FCST_PPLTN_MIN': '18000',\n",
       "   'FCST_PPLTN_MAX': '20000'},\n",
       "  {'FCST_TIME': '2024-04-26 07:00',\n",
       "   'FCST_CONGEST_LVL': '보통',\n",
       "   'FCST_PPLTN_MIN': '18000',\n",
       "   'FCST_PPLTN_MAX': '20000'},\n",
       "  {'FCST_TIME': '2024-04-26 08:00',\n",
       "   'FCST_CONGEST_LVL': '약간 붐빔',\n",
       "   'FCST_PPLTN_MIN': '20000',\n",
       "   'FCST_PPLTN_MAX': '22000'}]}"
      ]
     },
     "execution_count": 75,
     "metadata": {},
     "output_type": "execute_result"
    }
   ],
   "source": [
    "data['CITYDATA']['LIVE_PPLTN_STTS'][0]"
   ]
  },
  {
   "cell_type": "code",
   "execution_count": 77,
   "metadata": {},
   "outputs": [
    {
     "data": {
      "text/plain": [
       "{'FCST_TIME': '2024-04-25 21:00',\n",
       " 'FCST_CONGEST_LVL': '붐빔',\n",
       " 'FCST_PPLTN_MIN': '20000',\n",
       " 'FCST_PPLTN_MAX': '22000'}"
      ]
     },
     "execution_count": 77,
     "metadata": {},
     "output_type": "execute_result"
    }
   ],
   "source": [
    "# 1시간 뒤\n",
    "data['CITYDATA']['LIVE_PPLTN_STTS'][0]['FCST_PPLTN'][0]"
   ]
  },
  {
   "cell_type": "code",
   "execution_count": 78,
   "metadata": {},
   "outputs": [
    {
     "data": {
      "text/plain": [
       "{'FCST_TIME': '2024-04-26 08:00',\n",
       " 'FCST_CONGEST_LVL': '약간 붐빔',\n",
       " 'FCST_PPLTN_MIN': '20000',\n",
       " 'FCST_PPLTN_MAX': '22000'}"
      ]
     },
     "execution_count": 78,
     "metadata": {},
     "output_type": "execute_result"
    }
   ],
   "source": [
    "# 12시간 뒤까지 가능\n",
    "data['CITYDATA']['LIVE_PPLTN_STTS'][0]['FCST_PPLTN'][-1]"
   ]
  },
  {
   "cell_type": "code",
   "execution_count": 79,
   "metadata": {},
   "outputs": [
    {
     "data": {
      "text/plain": [
       "12"
      ]
     },
     "execution_count": 79,
     "metadata": {},
     "output_type": "execute_result"
    }
   ],
   "source": [
    "len(data['CITYDATA']['LIVE_PPLTN_STTS'][0]['FCST_PPLTN'])"
   ]
  },
  {
   "cell_type": "code",
   "execution_count": 80,
   "metadata": {},
   "outputs": [
    {
     "data": {
      "text/plain": [
       "'보통'"
      ]
     },
     "execution_count": 80,
     "metadata": {},
     "output_type": "execute_result"
    }
   ],
   "source": [
    "# 혼잡지수\n",
    "data['CITYDATA']['LIVE_PPLTN_STTS'][0]['AREA_CONGEST_LVL']"
   ]
  },
  {
   "cell_type": "code",
   "execution_count": 81,
   "metadata": {},
   "outputs": [
    {
     "data": {
      "text/plain": [
       "'사람이 몰려있을 수 있지만 크게 붐비지는 않아요. 도보 이동에 큰 제약이 없어요.'"
      ]
     },
     "execution_count": 81,
     "metadata": {},
     "output_type": "execute_result"
    }
   ],
   "source": [
    "# 혼잡메시지\n",
    "data['CITYDATA']['LIVE_PPLTN_STTS'][0]['AREA_CONGEST_MSG']"
   ]
  },
  {
   "cell_type": "code",
   "execution_count": null,
   "metadata": {},
   "outputs": [],
   "source": []
  }
 ],
 "metadata": {
  "kernelspec": {
   "display_name": "cg",
   "language": "python",
   "name": "python3"
  },
  "language_info": {
   "codemirror_mode": {
    "name": "ipython",
    "version": 3
   },
   "file_extension": ".py",
   "mimetype": "text/x-python",
   "name": "python",
   "nbconvert_exporter": "python",
   "pygments_lexer": "ipython3",
   "version": "3.8.18"
  }
 },
 "nbformat": 4,
 "nbformat_minor": 2
}
