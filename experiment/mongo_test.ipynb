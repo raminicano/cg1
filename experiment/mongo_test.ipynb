{
 "cells": [
  {
   "cell_type": "code",
   "execution_count": 1,
   "metadata": {},
   "outputs": [],
   "source": [
    "from fastapi import FastAPI, HTTPException\n",
    "from bson.objectid import ObjectId\n",
    "from pymongo import mongo_client\n",
    "from pymongo.errors import PyMongoError"
   ]
  },
  {
   "cell_type": "code",
   "execution_count": 2,
   "metadata": {},
   "outputs": [],
   "source": [
    "import requests\n",
    "import os\n",
    "import json"
   ]
  },
  {
   "cell_type": "code",
   "execution_count": 3,
   "metadata": {},
   "outputs": [],
   "source": [
    "BASE_DIR = os.path.dirname(os.path.dirname(os.path.relpath(\"./\")))\n",
    "secret_file = os.path.join(BASE_DIR, '../fastapi-server/app/secret.json')\n",
    "\n",
    "with open(secret_file) as f:\n",
    "    secrets = json.loads(f.read())\n",
    "\n",
    "def get_secret(setting, secrets=secrets):\n",
    "    try:\n",
    "        return secrets[setting]\n",
    "    except KeyError:\n",
    "        errorMsg = \"Set the {} environment variable.\".format(setting)\n",
    "        return errorMsg\n",
    "\n",
    "HOSTNAME = 'localhost:27017'\n",
    "USERNAME = get_secret(\"ATLAS_Username\")\n",
    "PASSWORD = get_secret(\"ATLAS_Password\")\n",
    "SEOUL_API_KEY = get_secret(\"SEOUL_API_KEY\")"
   ]
  },
  {
   "cell_type": "code",
   "execution_count": 17,
   "metadata": {},
   "outputs": [],
   "source": [
    "USERNAME = \"root\"\n",
    "PASSWORD = \"1234\"\n",
    "HOSTNAME = \"localhost:27017\"  # 포트 번호가 포함된 호스트 이름"
   ]
  },
  {
   "cell_type": "code",
   "execution_count": 4,
   "metadata": {},
   "outputs": [],
   "source": [
    "location = '강남역'"
   ]
  },
  {
   "cell_type": "code",
   "execution_count": 5,
   "metadata": {},
   "outputs": [],
   "source": [
    "url = f\"http://openapi.seoul.go.kr:8088/{SEOUL_API_KEY}/json/citydata/1/2/{location}\"\n",
    "response = requests.get(url)\n",
    "data = response.json()\n",
    "city_data = data['CITYDATA']"
   ]
  },
  {
   "cell_type": "code",
   "execution_count": 9,
   "metadata": {},
   "outputs": [
    {
     "data": {
      "text/plain": [
       "[{'FCST_TIME': '2024-05-01 11:00',\n",
       "  'FCST_CONGEST_LVL': '여유',\n",
       "  'FCST_PPLTN_MIN': '38000',\n",
       "  'FCST_PPLTN_MAX': '40000'},\n",
       " {'FCST_TIME': '2024-05-01 12:00',\n",
       "  'FCST_CONGEST_LVL': '보통',\n",
       "  'FCST_PPLTN_MIN': '46000',\n",
       "  'FCST_PPLTN_MAX': '48000'},\n",
       " {'FCST_TIME': '2024-05-01 13:00',\n",
       "  'FCST_CONGEST_LVL': '보통',\n",
       "  'FCST_PPLTN_MIN': '52000',\n",
       "  'FCST_PPLTN_MAX': '54000'},\n",
       " {'FCST_TIME': '2024-05-01 14:00',\n",
       "  'FCST_CONGEST_LVL': '보통',\n",
       "  'FCST_PPLTN_MIN': '58000',\n",
       "  'FCST_PPLTN_MAX': '60000'},\n",
       " {'FCST_TIME': '2024-05-01 15:00',\n",
       "  'FCST_CONGEST_LVL': '약간 붐빔',\n",
       "  'FCST_PPLTN_MIN': '58000',\n",
       "  'FCST_PPLTN_MAX': '60000'},\n",
       " {'FCST_TIME': '2024-05-01 16:00',\n",
       "  'FCST_CONGEST_LVL': '보통',\n",
       "  'FCST_PPLTN_MIN': '56000',\n",
       "  'FCST_PPLTN_MAX': '58000'},\n",
       " {'FCST_TIME': '2024-05-01 17:00',\n",
       "  'FCST_CONGEST_LVL': '보통',\n",
       "  'FCST_PPLTN_MIN': '56000',\n",
       "  'FCST_PPLTN_MAX': '58000'},\n",
       " {'FCST_TIME': '2024-05-01 18:00',\n",
       "  'FCST_CONGEST_LVL': '보통',\n",
       "  'FCST_PPLTN_MIN': '54000',\n",
       "  'FCST_PPLTN_MAX': '56000'},\n",
       " {'FCST_TIME': '2024-05-01 19:00',\n",
       "  'FCST_CONGEST_LVL': '약간 붐빔',\n",
       "  'FCST_PPLTN_MIN': '58000',\n",
       "  'FCST_PPLTN_MAX': '60000'},\n",
       " {'FCST_TIME': '2024-05-01 20:00',\n",
       "  'FCST_CONGEST_LVL': '약간 붐빔',\n",
       "  'FCST_PPLTN_MIN': '60000',\n",
       "  'FCST_PPLTN_MAX': '62000'},\n",
       " {'FCST_TIME': '2024-05-01 21:00',\n",
       "  'FCST_CONGEST_LVL': '보통',\n",
       "  'FCST_PPLTN_MIN': '50000',\n",
       "  'FCST_PPLTN_MAX': '52000'},\n",
       " {'FCST_TIME': '2024-05-01 22:00',\n",
       "  'FCST_CONGEST_LVL': '보통',\n",
       "  'FCST_PPLTN_MIN': '48000',\n",
       "  'FCST_PPLTN_MAX': '50000'}]"
      ]
     },
     "execution_count": 9,
     "metadata": {},
     "output_type": "execute_result"
    }
   ],
   "source": [
    "city_data['LIVE_PPLTN_STTS'][0]['FCST_PPLTN']"
   ]
  },
  {
   "cell_type": "code",
   "execution_count": 19,
   "metadata": {},
   "outputs": [],
   "source": [
    "client = mongo_client.MongoClient(f'mongodb://{USERNAME}:{PASSWORD}@{HOSTNAME}')\n"
   ]
  },
  {
   "cell_type": "code",
   "execution_count": 20,
   "metadata": {},
   "outputs": [],
   "source": [
    "mydb = client['cg']\n",
    "mycol = mydb['congestion']"
   ]
  },
  {
   "cell_type": "code",
   "execution_count": 22,
   "metadata": {},
   "outputs": [],
   "source": [
    "result = mycol.insert_one(city_data)"
   ]
  },
  {
   "cell_type": "code",
   "execution_count": 38,
   "metadata": {},
   "outputs": [],
   "source": [
    "from datetime import datetime, timedelta\n"
   ]
  },
  {
   "cell_type": "code",
   "execution_count": 40,
   "metadata": {},
   "outputs": [],
   "source": [
    "input_time = datetime.now()\n",
    "one_hour_ago = datetime.now() - timedelta(hours=1)\n",
    "date_str = input_time.strftime(\"%Y-%m-%d\")\n",
    "hour = one_hour_ago.hour  # 시간 부분 추출"
   ]
  },
  {
   "cell_type": "code",
   "execution_count": 26,
   "metadata": {},
   "outputs": [
    {
     "data": {
      "text/plain": [
       "10"
      ]
     },
     "execution_count": 26,
     "metadata": {},
     "output_type": "execute_result"
    }
   ],
   "source": [
    "len(date_str)"
   ]
  },
  {
   "cell_type": "code",
   "execution_count": 41,
   "metadata": {},
   "outputs": [],
   "source": [
    "query = {\n",
    "    \"AREA_NM\": '고속터미널역',\n",
    "    \"$expr\": {\n",
    "        \"$and\": [\n",
    "            {\"$eq\": [{\"$substr\": [{\"$arrayElemAt\": [\"$LIVE_PPLTN_STTS.PPLTN_TIME\", 0]}, 0, 10]}, date_str]}, # 첫 번째 요소의 날짜가 일치하는지 확인\n",
    "            {\"$eq\": [{\"$hour\": {\"$dateFromString\": {\"dateString\": {\"$arrayElemAt\": [\"$LIVE_PPLTN_STTS.PPLTN_TIME\", 0]}}}}, hour]}  # 계산된 1시간 전의 시간\n",
    "        ]\n",
    "    }\n",
    "}"
   ]
  },
  {
   "cell_type": "code",
   "execution_count": 42,
   "metadata": {},
   "outputs": [],
   "source": [
    "closest_location = '고속터미널역'"
   ]
  },
  {
   "cell_type": "code",
   "execution_count": 43,
   "metadata": {},
   "outputs": [],
   "source": [
    "data = mydb['congestion'].find_one(query, sort=[('_id', -1)])"
   ]
  },
  {
   "cell_type": "code",
   "execution_count": null,
   "metadata": {},
   "outputs": [],
   "source": []
  }
 ],
 "metadata": {
  "kernelspec": {
   "display_name": "cg",
   "language": "python",
   "name": "python3"
  },
  "language_info": {
   "codemirror_mode": {
    "name": "ipython",
    "version": 3
   },
   "file_extension": ".py",
   "mimetype": "text/x-python",
   "name": "python",
   "nbconvert_exporter": "python",
   "pygments_lexer": "ipython3",
   "version": "3.8.18"
  }
 },
 "nbformat": 4,
 "nbformat_minor": 2
}
