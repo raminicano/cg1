{
 "cells": [
  {
   "cell_type": "code",
   "execution_count": 1,
   "metadata": {},
   "outputs": [],
   "source": [
    "import requests\n",
    "import json\n",
    "import numpy as np\n",
    "import pandas as pd"
   ]
  },
  {
   "cell_type": "markdown",
   "metadata": {},
   "source": [
    "# 함수 선언"
   ]
  },
  {
   "cell_type": "code",
   "execution_count": 3,
   "metadata": {},
   "outputs": [],
   "source": [
    "def get_xy(location):\n",
    "    url = f\"http://openapi.seoul.go.kr:8088/{public_api_key}/json/citydata/1/2/{location}\"\n",
    "    response = requests.get(url)\n",
    "    data = json.loads(response.text)\n",
    "    lati = data['CITYDATA']['BUS_STN_STTS'][0]['BUS_STN_Y'] # 위도\n",
    "    long = data['CITYDATA']['BUS_STN_STTS'][0]['BUS_STN_X'] # 경도\n",
    "    return long, lati"
   ]
  },
  {
   "cell_type": "code",
   "execution_count": 5,
   "metadata": {},
   "outputs": [],
   "source": [
    "def get_location(long, lati):\n",
    "    url = f'https://dapi.kakao.com/v2/local/geo/coord2address.json?x={long}&y={lati}'\n",
    "    headers = {\"Authorization\": f\"KakaoAK {kakao_api_key}\"}\n",
    "    api_json = json.loads(str(requests.get(url,headers=headers).text))\n",
    "    gu = api_json['documents'][0]['address']['region_2depth_name']\n",
    "    dong = api_json['documents'][0]['address']['region_3depth_name']\n",
    "    return gu, dong"
   ]
  },
  {
   "cell_type": "markdown",
   "metadata": {},
   "source": [
    "# 테스트"
   ]
  },
  {
   "cell_type": "code",
   "execution_count": 8,
   "metadata": {},
   "outputs": [
    {
     "data": {
      "text/plain": [
       "('127.0610582829', '37.512027938')"
      ]
     },
     "execution_count": 8,
     "metadata": {},
     "output_type": "execute_result"
    }
   ],
   "source": [
    "get_xy('강남 MICE 관광특구')"
   ]
  },
  {
   "cell_type": "code",
   "execution_count": 6,
   "metadata": {},
   "outputs": [],
   "source": [
    "gu, dong = get_location(*get_xy('강남 MICE 관광특구'))"
   ]
  },
  {
   "cell_type": "code",
   "execution_count": 7,
   "metadata": {},
   "outputs": [
    {
     "data": {
      "text/plain": [
       "('강남구', '삼성동')"
      ]
     },
     "execution_count": 7,
     "metadata": {},
     "output_type": "execute_result"
    }
   ],
   "source": [
    "gu, dong"
   ]
  },
  {
   "cell_type": "code",
   "execution_count": 11,
   "metadata": {},
   "outputs": [],
   "source": [
    "data = {\n",
    "    '지역': ['서울', '부산', '대구', '인천', '광주'],\n",
    "    '인구': [9904312, 3448737, 2427954, 2890451, 1502881],\n",
    "    '면적': [605.21, 767.35, 883.56, 1064.07, 501.25]\n",
    "}\n",
    "df = pd.DataFrame(data)\n"
   ]
  },
  {
   "cell_type": "code",
   "execution_count": 13,
   "metadata": {},
   "outputs": [
    {
     "name": "stdout",
     "output_type": "stream",
     "text": [
      "Data saved to ./data/sample_data.csv\n"
     ]
    }
   ],
   "source": [
    "file_path = './data/sample_data.csv'\n",
    "df.to_csv(file_path, index=False)\n",
    "print(f\"Data saved to {file_path}\")\n"
   ]
  },
  {
   "cell_type": "markdown",
   "metadata": {},
   "source": [
    "# 데이터 프레임으로 만들기"
   ]
  },
  {
   "cell_type": "code",
   "execution_count": 9,
   "metadata": {},
   "outputs": [],
   "source": [
    "landmarks = [\n",
    "    \"강남 MICE 관광특구\", \"동대문 관광특구\", \"명동 관광특구\", \"이태원 관광특구\", \"잠실 관광특구\", \n",
    "    \"종로·청계 관광특구\", \"홍대 관광특구\", \"경복궁\", \"광화문·덕수궁\", \"보신각\", \n",
    "    \"서울 암사동 유적\", \"창덕궁·종묘\", \"가산디지털단지역\", \"강남역\", \"건대입구역\", \n",
    "    \"고덕역\", \"고속터미널역\", \"교대역\", \"구로디지털단지역\", \"구로역\", \n",
    "    \"군자역\", \"남구로역\", \"대림역\", \"동대문역\", \"뚝섬역\", \n",
    "    \"미아사거리역\", \"발산역\", \"북한산우이역\", \"사당역\", \"삼각지역\", \n",
    "    \"서울대입구역\", \"서울식물원·마곡나루역\", \"서울역\", \"선릉역\", \"성신여대입구역\", \n",
    "    \"수유역\", \"신논현역·논현역\", \"신도림역\", \"신림역\", \"신촌·이대역\", \n",
    "    \"양재역\", \"역삼역\", \"연신내역\", \"오목교역·목동운동장\", \"왕십리역\", \n",
    "    \"용산역\", \"이태원역\", \"장지역\", \"장한평역\", \"천호역\", \n",
    "    \"총신대입구(이수)역\", \"충정로역\", \"합정역\", \"혜화역\", \"홍대입구역(2호선)\", \n",
    "    \"회기역\", \"4·19 카페거리\", \"가락시장\", \"가로수길\", \"광장(전통)시장\", \n",
    "    \"김포공항\", \"낙산공원·이화마을\", \"노량진\", \"덕수궁길·정동길\", \"방배역 먹자골목\", \n",
    "    \"북촌한옥마을\", \"서촌\", \"성수카페거리\", \"수유리 먹자골목\", \"쌍문동 맛집거리\", \n",
    "    \"압구정로데오거리\", \"여의도\", \"연남동\", \"영등포 타임스퀘어\", \"외대앞\", \n",
    "    \"용리단길\", \"이태원 앤틱가구거리\", \"인사동·익선동\", \"창동 신경제 중심지\", \"청담동 명품거리\", \n",
    "    \"청량리 제기동 일대 전통시장\", \"해방촌·경리단길\", \"DDP(동대문디자인플라자)\", \"DMC(디지털미디어시티)\", \"강서한강공원\", \n",
    "    \"고척돔\", \"광나루한강공원\", \"광화문광장\", \"국립중앙박물관·용산가족공원\", \"난지한강공원\", \n",
    "    \"남산공원\", \"노들섬\", \"뚝섬한강공원\", \"망원한강공원\", \"반포한강공원\", \n",
    "    \"북서울꿈의숲\", \"불광천\", \"서리풀공원·몽마르뜨공원\", \"서울광장\", \"서울대공원\", \n",
    "    \"서울숲공원\", \"아차산\", \"양화한강공원\", \"어린이대공원\", \"여의도한강공원\", \n",
    "    \"월드컵공원\", \"응봉산\", \"이촌한강공원\", \"잠실종합운동장\", \"잠실한강공원\", \n",
    "    \"잠원한강공원\", \"청계산\", \"청와대\", \"북창동 먹자골목\", \"남대문시장\"\n",
    "]\n"
   ]
  },
  {
   "cell_type": "code",
   "execution_count": 15,
   "metadata": {},
   "outputs": [],
   "source": [
    "def get_xy(location):\n",
    "    try:\n",
    "        url = f\"http://openapi.seoul.go.kr:8088/{public_api_key}/json/citydata/1/2/{location}\"\n",
    "        response = requests.get(url)\n",
    "        data = json.loads(response.text)\n",
    "        lati = data['CITYDATA']['BUS_STN_STTS'][0]['BUS_STN_Y']  # 위도\n",
    "        long = data['CITYDATA']['BUS_STN_STTS'][0]['BUS_STN_X']  # 경도\n",
    "        return long, lati\n",
    "    except Exception as e:\n",
    "        print(f\"Error getting coordinates for {location}: {e}\")\n",
    "        return None, None\n",
    "\n",
    "def get_location(long, lati):\n",
    "    try:\n",
    "        url = f'https://dapi.kakao.com/v2/local/geo/coord2address.json?x={long}&y={lati}'\n",
    "        headers = {\"Authorization\": f\"KakaoAK {kakao_api_key}\"}\n",
    "        response = requests.get(url, headers=headers)\n",
    "        api_json = json.loads(response.text)\n",
    "        gu = api_json['documents'][0]['address']['region_2depth_name']\n",
    "        dong = api_json['documents'][0]['address']['region_3depth_name']\n",
    "        return gu, dong\n",
    "    except Exception as e:\n",
    "        print(f\"Error getting location for longitude: {long}, latitude: {lati}: {e}\")\n",
    "        return None, None"
   ]
  },
  {
   "cell_type": "code",
   "execution_count": 18,
   "metadata": {},
   "outputs": [],
   "source": [
    "import pandas as pd\n",
    "\n",
    "def create_dataframe(landmarks):\n",
    "    columns = ['구', '동', '랜드마크', '위도', '경도']\n",
    "    df = pd.DataFrame(columns=columns)\n",
    "    save_path = './data/landmark_data.csv'  # 중간 데이터 저장 경로\n",
    "\n",
    "    for landmark in landmarks:\n",
    "        long, lati = get_xy(landmark)\n",
    "        if long is not None and lati is not None:\n",
    "            gu, dong = get_location(long, lati)\n",
    "            if gu is not None and dong is not None:\n",
    "                # 새로운 행을 데이터프레임에 추가\n",
    "                new_row = pd.DataFrame({'구': [gu], '동': [dong], '랜드마크': [landmark], '위도': [lati], '경도': [long]})\n",
    "                df = pd.concat([df, new_row], ignore_index=True)\n",
    "                df.to_csv(save_path, index=False)  # 각 단계에서 데이터프레임을 CSV 파일로 저장\n",
    "                print(f\"Saved {landmark} to CSV.\")\n",
    "            else:\n",
    "                print(f\"Failed to retrieve location data for {landmark}.\")\n",
    "        else:\n",
    "            print(f\"Failed to retrieve coordinates for {landmark}.\")\n",
    "\n",
    "    return df\n"
   ]
  },
  {
   "cell_type": "code",
   "execution_count": 19,
   "metadata": {},
   "outputs": [
    {
     "name": "stdout",
     "output_type": "stream",
     "text": [
      "Saved 강남 MICE 관광특구 to CSV.\n",
      "Saved 동대문 관광특구 to CSV.\n",
      "Saved 명동 관광특구 to CSV.\n",
      "Saved 이태원 관광특구 to CSV.\n",
      "Saved 잠실 관광특구 to CSV.\n",
      "Saved 종로·청계 관광특구 to CSV.\n",
      "Saved 홍대 관광특구 to CSV.\n",
      "Saved 경복궁 to CSV.\n",
      "Saved 광화문·덕수궁 to CSV.\n",
      "Saved 보신각 to CSV.\n",
      "Saved 서울 암사동 유적 to CSV.\n",
      "Saved 창덕궁·종묘 to CSV.\n",
      "Saved 가산디지털단지역 to CSV.\n",
      "Saved 강남역 to CSV.\n",
      "Saved 건대입구역 to CSV.\n",
      "Saved 고덕역 to CSV.\n",
      "Saved 고속터미널역 to CSV.\n",
      "Saved 교대역 to CSV.\n",
      "Saved 구로디지털단지역 to CSV.\n",
      "Saved 구로역 to CSV.\n",
      "Saved 군자역 to CSV.\n",
      "Saved 남구로역 to CSV.\n",
      "Saved 대림역 to CSV.\n",
      "Saved 동대문역 to CSV.\n",
      "Saved 뚝섬역 to CSV.\n",
      "Saved 미아사거리역 to CSV.\n",
      "Saved 발산역 to CSV.\n",
      "Saved 북한산우이역 to CSV.\n",
      "Saved 사당역 to CSV.\n",
      "Saved 삼각지역 to CSV.\n",
      "Saved 서울대입구역 to CSV.\n",
      "Saved 서울식물원·마곡나루역 to CSV.\n",
      "Saved 서울역 to CSV.\n",
      "Saved 선릉역 to CSV.\n",
      "Saved 성신여대입구역 to CSV.\n",
      "Saved 수유역 to CSV.\n",
      "Saved 신논현역·논현역 to CSV.\n",
      "Saved 신도림역 to CSV.\n",
      "Saved 신림역 to CSV.\n",
      "Saved 신촌·이대역 to CSV.\n",
      "Saved 양재역 to CSV.\n",
      "Saved 역삼역 to CSV.\n",
      "Saved 연신내역 to CSV.\n",
      "Saved 오목교역·목동운동장 to CSV.\n",
      "Saved 왕십리역 to CSV.\n",
      "Saved 용산역 to CSV.\n",
      "Saved 이태원역 to CSV.\n",
      "Saved 장지역 to CSV.\n",
      "Saved 장한평역 to CSV.\n",
      "Saved 천호역 to CSV.\n",
      "Saved 총신대입구(이수)역 to CSV.\n",
      "Saved 충정로역 to CSV.\n",
      "Saved 합정역 to CSV.\n",
      "Saved 혜화역 to CSV.\n",
      "Saved 홍대입구역(2호선) to CSV.\n",
      "Saved 회기역 to CSV.\n",
      "Saved 4·19 카페거리 to CSV.\n",
      "Saved 가락시장 to CSV.\n",
      "Saved 가로수길 to CSV.\n",
      "Saved 광장(전통)시장 to CSV.\n",
      "Saved 김포공항 to CSV.\n",
      "Saved 낙산공원·이화마을 to CSV.\n",
      "Saved 노량진 to CSV.\n",
      "Error getting coordinates for 덕수궁길·정동길: list index out of range\n",
      "Failed to retrieve coordinates for 덕수궁길·정동길.\n",
      "Saved 방배역 먹자골목 to CSV.\n",
      "Saved 북촌한옥마을 to CSV.\n",
      "Saved 서촌 to CSV.\n",
      "Saved 성수카페거리 to CSV.\n",
      "Saved 수유리 먹자골목 to CSV.\n",
      "Saved 쌍문동 맛집거리 to CSV.\n",
      "Saved 압구정로데오거리 to CSV.\n",
      "Saved 여의도 to CSV.\n",
      "Saved 연남동 to CSV.\n",
      "Saved 영등포 타임스퀘어 to CSV.\n",
      "Saved 외대앞 to CSV.\n",
      "Saved 용리단길 to CSV.\n",
      "Saved 이태원 앤틱가구거리 to CSV.\n",
      "Saved 인사동·익선동 to CSV.\n",
      "Saved 창동 신경제 중심지 to CSV.\n",
      "Saved 청담동 명품거리 to CSV.\n",
      "Saved 청량리 제기동 일대 전통시장 to CSV.\n",
      "Saved 해방촌·경리단길 to CSV.\n",
      "Saved DDP(동대문디자인플라자) to CSV.\n",
      "Saved DMC(디지털미디어시티) to CSV.\n",
      "Saved 강서한강공원 to CSV.\n",
      "Saved 고척돔 to CSV.\n",
      "Error getting coordinates for 광나루한강공원: list index out of range\n",
      "Failed to retrieve coordinates for 광나루한강공원.\n",
      "Saved 광화문광장 to CSV.\n",
      "Saved 국립중앙박물관·용산가족공원 to CSV.\n",
      "Saved 난지한강공원 to CSV.\n",
      "Saved 남산공원 to CSV.\n",
      "Saved 노들섬 to CSV.\n",
      "Saved 뚝섬한강공원 to CSV.\n",
      "Saved 망원한강공원 to CSV.\n",
      "Saved 반포한강공원 to CSV.\n",
      "Saved 북서울꿈의숲 to CSV.\n",
      "Saved 불광천 to CSV.\n",
      "Error getting coordinates for 서리풀공원·몽마르뜨공원: list index out of range\n",
      "Failed to retrieve coordinates for 서리풀공원·몽마르뜨공원.\n",
      "Saved 서울광장 to CSV.\n",
      "Error getting coordinates for 서울대공원: list index out of range\n",
      "Failed to retrieve coordinates for 서울대공원.\n",
      "Saved 서울숲공원 to CSV.\n",
      "Error getting coordinates for 아차산: list index out of range\n",
      "Failed to retrieve coordinates for 아차산.\n",
      "Saved 양화한강공원 to CSV.\n",
      "Saved 어린이대공원 to CSV.\n",
      "Error getting coordinates for 여의도한강공원: list index out of range\n",
      "Failed to retrieve coordinates for 여의도한강공원.\n",
      "Saved 월드컵공원 to CSV.\n",
      "Saved 응봉산 to CSV.\n",
      "Saved 이촌한강공원 to CSV.\n",
      "Saved 잠실종합운동장 to CSV.\n",
      "Saved 잠실한강공원 to CSV.\n",
      "Saved 잠원한강공원 to CSV.\n",
      "Saved 청계산 to CSV.\n",
      "Saved 청와대 to CSV.\n",
      "Saved 북창동 먹자골목 to CSV.\n",
      "Saved 남대문시장 to CSV.\n"
     ]
    },
    {
     "data": {
      "text/html": [
       "<div>\n",
       "<style scoped>\n",
       "    .dataframe tbody tr th:only-of-type {\n",
       "        vertical-align: middle;\n",
       "    }\n",
       "\n",
       "    .dataframe tbody tr th {\n",
       "        vertical-align: top;\n",
       "    }\n",
       "\n",
       "    .dataframe thead th {\n",
       "        text-align: right;\n",
       "    }\n",
       "</style>\n",
       "<table border=\"1\" class=\"dataframe\">\n",
       "  <thead>\n",
       "    <tr style=\"text-align: right;\">\n",
       "      <th></th>\n",
       "      <th>구</th>\n",
       "      <th>동</th>\n",
       "      <th>랜드마크</th>\n",
       "      <th>위도</th>\n",
       "      <th>경도</th>\n",
       "    </tr>\n",
       "  </thead>\n",
       "  <tbody>\n",
       "    <tr>\n",
       "      <th>0</th>\n",
       "      <td>강남구</td>\n",
       "      <td>삼성동</td>\n",
       "      <td>강남 MICE 관광특구</td>\n",
       "      <td>37.512027938</td>\n",
       "      <td>127.0610582829</td>\n",
       "    </tr>\n",
       "    <tr>\n",
       "      <th>1</th>\n",
       "      <td>중구</td>\n",
       "      <td>을지로6가</td>\n",
       "      <td>동대문 관광특구</td>\n",
       "      <td>37.5661698346</td>\n",
       "      <td>127.0062316194</td>\n",
       "    </tr>\n",
       "    <tr>\n",
       "      <th>2</th>\n",
       "      <td>중구</td>\n",
       "      <td>을지로1가</td>\n",
       "      <td>명동 관광특구</td>\n",
       "      <td>37.5661382638</td>\n",
       "      <td>126.9806320857</td>\n",
       "    </tr>\n",
       "    <tr>\n",
       "      <th>3</th>\n",
       "      <td>용산구</td>\n",
       "      <td>이태원동</td>\n",
       "      <td>이태원 관광특구</td>\n",
       "      <td>37.5302839538</td>\n",
       "      <td>126.9912039368</td>\n",
       "    </tr>\n",
       "    <tr>\n",
       "      <th>4</th>\n",
       "      <td>송파구</td>\n",
       "      <td>신천동</td>\n",
       "      <td>잠실 관광특구</td>\n",
       "      <td>37.5127165509</td>\n",
       "      <td>127.1005791644</td>\n",
       "    </tr>\n",
       "    <tr>\n",
       "      <th>...</th>\n",
       "      <td>...</td>\n",
       "      <td>...</td>\n",
       "      <td>...</td>\n",
       "      <td>...</td>\n",
       "      <td>...</td>\n",
       "    </tr>\n",
       "    <tr>\n",
       "      <th>104</th>\n",
       "      <td>서초구</td>\n",
       "      <td>잠원동</td>\n",
       "      <td>잠원한강공원</td>\n",
       "      <td>37.5198145356</td>\n",
       "      <td>127.0114642382</td>\n",
       "    </tr>\n",
       "    <tr>\n",
       "      <th>105</th>\n",
       "      <td>서초구</td>\n",
       "      <td>원지동</td>\n",
       "      <td>청계산</td>\n",
       "      <td>37.4373210738</td>\n",
       "      <td>127.0632387636</td>\n",
       "    </tr>\n",
       "    <tr>\n",
       "      <th>106</th>\n",
       "      <td>종로구</td>\n",
       "      <td>세종로</td>\n",
       "      <td>청와대</td>\n",
       "      <td>37.5829712951</td>\n",
       "      <td>126.973768082</td>\n",
       "    </tr>\n",
       "    <tr>\n",
       "      <th>107</th>\n",
       "      <td>중구</td>\n",
       "      <td>남대문로3가</td>\n",
       "      <td>북창동 먹자골목</td>\n",
       "      <td>37.5612289483</td>\n",
       "      <td>126.978283184</td>\n",
       "    </tr>\n",
       "    <tr>\n",
       "      <th>108</th>\n",
       "      <td>중구</td>\n",
       "      <td>남창동</td>\n",
       "      <td>남대문시장</td>\n",
       "      <td>37.5588723988</td>\n",
       "      <td>126.9759976615</td>\n",
       "    </tr>\n",
       "  </tbody>\n",
       "</table>\n",
       "<p>109 rows × 5 columns</p>\n",
       "</div>"
      ],
      "text/plain": [
       "       구       동          랜드마크             위도              경도\n",
       "0    강남구     삼성동  강남 MICE 관광특구   37.512027938  127.0610582829\n",
       "1     중구   을지로6가      동대문 관광특구  37.5661698346  127.0062316194\n",
       "2     중구   을지로1가       명동 관광특구  37.5661382638  126.9806320857\n",
       "3    용산구    이태원동      이태원 관광특구  37.5302839538  126.9912039368\n",
       "4    송파구     신천동       잠실 관광특구  37.5127165509  127.1005791644\n",
       "..   ...     ...           ...            ...             ...\n",
       "104  서초구     잠원동        잠원한강공원  37.5198145356  127.0114642382\n",
       "105  서초구     원지동           청계산  37.4373210738  127.0632387636\n",
       "106  종로구     세종로           청와대  37.5829712951   126.973768082\n",
       "107   중구  남대문로3가      북창동 먹자골목  37.5612289483   126.978283184\n",
       "108   중구     남창동         남대문시장  37.5588723988  126.9759976615\n",
       "\n",
       "[109 rows x 5 columns]"
      ]
     },
     "execution_count": 19,
     "metadata": {},
     "output_type": "execute_result"
    }
   ],
   "source": [
    "create_dataframe(landmarks)"
   ]
  },
  {
   "cell_type": "code",
   "execution_count": 28,
   "metadata": {},
   "outputs": [],
   "source": [
    "df = pd.read_csv('./data/landmark_data.csv')"
   ]
  },
  {
   "cell_type": "code",
   "execution_count": 29,
   "metadata": {},
   "outputs": [
    {
     "data": {
      "text/html": [
       "<div>\n",
       "<style scoped>\n",
       "    .dataframe tbody tr th:only-of-type {\n",
       "        vertical-align: middle;\n",
       "    }\n",
       "\n",
       "    .dataframe tbody tr th {\n",
       "        vertical-align: top;\n",
       "    }\n",
       "\n",
       "    .dataframe thead th {\n",
       "        text-align: right;\n",
       "    }\n",
       "</style>\n",
       "<table border=\"1\" class=\"dataframe\">\n",
       "  <thead>\n",
       "    <tr style=\"text-align: right;\">\n",
       "      <th></th>\n",
       "      <th>구</th>\n",
       "      <th>동</th>\n",
       "      <th>랜드마크</th>\n",
       "      <th>위도</th>\n",
       "      <th>경도</th>\n",
       "    </tr>\n",
       "  </thead>\n",
       "  <tbody>\n",
       "    <tr>\n",
       "      <th>0</th>\n",
       "      <td>강남구</td>\n",
       "      <td>삼성동</td>\n",
       "      <td>강남 MICE 관광특구</td>\n",
       "      <td>37.512028</td>\n",
       "      <td>127.061058</td>\n",
       "    </tr>\n",
       "    <tr>\n",
       "      <th>1</th>\n",
       "      <td>중구</td>\n",
       "      <td>을지로6가</td>\n",
       "      <td>동대문 관광특구</td>\n",
       "      <td>37.566170</td>\n",
       "      <td>127.006232</td>\n",
       "    </tr>\n",
       "    <tr>\n",
       "      <th>2</th>\n",
       "      <td>중구</td>\n",
       "      <td>을지로1가</td>\n",
       "      <td>명동 관광특구</td>\n",
       "      <td>37.566138</td>\n",
       "      <td>126.980632</td>\n",
       "    </tr>\n",
       "    <tr>\n",
       "      <th>3</th>\n",
       "      <td>용산구</td>\n",
       "      <td>이태원동</td>\n",
       "      <td>이태원 관광특구</td>\n",
       "      <td>37.530284</td>\n",
       "      <td>126.991204</td>\n",
       "    </tr>\n",
       "    <tr>\n",
       "      <th>4</th>\n",
       "      <td>송파구</td>\n",
       "      <td>신천동</td>\n",
       "      <td>잠실 관광특구</td>\n",
       "      <td>37.512717</td>\n",
       "      <td>127.100579</td>\n",
       "    </tr>\n",
       "    <tr>\n",
       "      <th>...</th>\n",
       "      <td>...</td>\n",
       "      <td>...</td>\n",
       "      <td>...</td>\n",
       "      <td>...</td>\n",
       "      <td>...</td>\n",
       "    </tr>\n",
       "    <tr>\n",
       "      <th>104</th>\n",
       "      <td>서초구</td>\n",
       "      <td>잠원동</td>\n",
       "      <td>잠원한강공원</td>\n",
       "      <td>37.519815</td>\n",
       "      <td>127.011464</td>\n",
       "    </tr>\n",
       "    <tr>\n",
       "      <th>105</th>\n",
       "      <td>서초구</td>\n",
       "      <td>원지동</td>\n",
       "      <td>청계산</td>\n",
       "      <td>37.437321</td>\n",
       "      <td>127.063239</td>\n",
       "    </tr>\n",
       "    <tr>\n",
       "      <th>106</th>\n",
       "      <td>종로구</td>\n",
       "      <td>세종로</td>\n",
       "      <td>청와대</td>\n",
       "      <td>37.582971</td>\n",
       "      <td>126.973768</td>\n",
       "    </tr>\n",
       "    <tr>\n",
       "      <th>107</th>\n",
       "      <td>중구</td>\n",
       "      <td>남대문로3가</td>\n",
       "      <td>북창동 먹자골목</td>\n",
       "      <td>37.561229</td>\n",
       "      <td>126.978283</td>\n",
       "    </tr>\n",
       "    <tr>\n",
       "      <th>108</th>\n",
       "      <td>중구</td>\n",
       "      <td>남창동</td>\n",
       "      <td>남대문시장</td>\n",
       "      <td>37.558872</td>\n",
       "      <td>126.975998</td>\n",
       "    </tr>\n",
       "  </tbody>\n",
       "</table>\n",
       "<p>109 rows × 5 columns</p>\n",
       "</div>"
      ],
      "text/plain": [
       "       구       동          랜드마크         위도          경도\n",
       "0    강남구     삼성동  강남 MICE 관광특구  37.512028  127.061058\n",
       "1     중구   을지로6가      동대문 관광특구  37.566170  127.006232\n",
       "2     중구   을지로1가       명동 관광특구  37.566138  126.980632\n",
       "3    용산구    이태원동      이태원 관광특구  37.530284  126.991204\n",
       "4    송파구     신천동       잠실 관광특구  37.512717  127.100579\n",
       "..   ...     ...           ...        ...         ...\n",
       "104  서초구     잠원동        잠원한강공원  37.519815  127.011464\n",
       "105  서초구     원지동           청계산  37.437321  127.063239\n",
       "106  종로구     세종로           청와대  37.582971  126.973768\n",
       "107   중구  남대문로3가      북창동 먹자골목  37.561229  126.978283\n",
       "108   중구     남창동         남대문시장  37.558872  126.975998\n",
       "\n",
       "[109 rows x 5 columns]"
      ]
     },
     "execution_count": 29,
     "metadata": {},
     "output_type": "execute_result"
    }
   ],
   "source": [
    "df"
   ]
  },
  {
   "cell_type": "markdown",
   "metadata": {},
   "source": [
    "# 저장되지 않은 데이터 저장하기"
   ]
  },
  {
   "cell_type": "markdown",
   "metadata": {},
   "source": [
    "## 덕수궁길"
   ]
  },
  {
   "cell_type": "code",
   "execution_count": 35,
   "metadata": {},
   "outputs": [],
   "source": [
    "landmark = '덕수궁길·정동길'"
   ]
  },
  {
   "cell_type": "code",
   "execution_count": 22,
   "metadata": {},
   "outputs": [],
   "source": [
    "url = f\"http://openapi.seoul.go.kr:8088/{public_api_key}/json/citydata/1/2/{landmark}\"\n",
    "response = requests.get(url)\n",
    "data = json.loads(response.text)"
   ]
  },
  {
   "cell_type": "code",
   "execution_count": 30,
   "metadata": {},
   "outputs": [],
   "source": [
    "long = data['CITYDATA']['SUB_STTS'][0]['SUB_STN_X']"
   ]
  },
  {
   "cell_type": "code",
   "execution_count": 31,
   "metadata": {},
   "outputs": [],
   "source": [
    "lati = data['CITYDATA']['SUB_STTS'][0]['SUB_STN_Y']"
   ]
  },
  {
   "cell_type": "code",
   "execution_count": 32,
   "metadata": {},
   "outputs": [],
   "source": [
    "gu, dong = get_location(long, lati)"
   ]
  },
  {
   "cell_type": "code",
   "execution_count": 36,
   "metadata": {},
   "outputs": [],
   "source": [
    "new_row = pd.DataFrame({'구': [gu], '동': [dong], '랜드마크': [landmark], '위도': [lati], '경도': [long]})\n",
    "df = pd.concat([df, new_row], ignore_index=True)"
   ]
  },
  {
   "cell_type": "markdown",
   "metadata": {},
   "source": [
    "## 광나루한강공원"
   ]
  },
  {
   "cell_type": "code",
   "execution_count": 38,
   "metadata": {},
   "outputs": [],
   "source": [
    "landmark = '광나루한강공원'\n",
    "url = f\"http://openapi.seoul.go.kr:8088/{public_api_key}/json/citydata/1/2/{landmark}\"\n",
    "response = requests.get(url)\n",
    "data = json.loads(response.text)"
   ]
  },
  {
   "cell_type": "code",
   "execution_count": 40,
   "metadata": {},
   "outputs": [],
   "source": [
    "lati, long = 37.556593720902285,127.12383445969239"
   ]
  },
  {
   "cell_type": "code",
   "execution_count": 41,
   "metadata": {},
   "outputs": [],
   "source": [
    "gu, dong = get_location(long, lati)"
   ]
  },
  {
   "cell_type": "code",
   "execution_count": 42,
   "metadata": {},
   "outputs": [
    {
     "data": {
      "text/plain": [
       "('강동구', '암사동')"
      ]
     },
     "execution_count": 42,
     "metadata": {},
     "output_type": "execute_result"
    }
   ],
   "source": [
    "gu, dong"
   ]
  },
  {
   "cell_type": "code",
   "execution_count": 43,
   "metadata": {},
   "outputs": [],
   "source": [
    "new_row = pd.DataFrame({'구': [gu], '동': [dong], '랜드마크': [landmark], '위도': [lati], '경도': [long]})\n",
    "df = pd.concat([df, new_row], ignore_index=True)"
   ]
  },
  {
   "cell_type": "markdown",
   "metadata": {},
   "source": [
    "## 서리풀공원·몽마르뜨공원"
   ]
  },
  {
   "cell_type": "code",
   "execution_count": 46,
   "metadata": {},
   "outputs": [],
   "source": [
    "landmark = '서리풀공원·몽마르뜨공원'\n",
    "lati, long = 37.49158306985967,127.0026831794888\n",
    "gu, dong = get_location(long, lati)\n",
    "new_row = pd.DataFrame({'구': [gu], '동': [dong], '랜드마크': [landmark], '위도': [lati], '경도': [long]})\n",
    "df = pd.concat([df, new_row], ignore_index=True)"
   ]
  },
  {
   "cell_type": "markdown",
   "metadata": {},
   "source": [
    "## 서울대공원"
   ]
  },
  {
   "cell_type": "code",
   "execution_count": 48,
   "metadata": {},
   "outputs": [],
   "source": [
    "landmark = '서울대공원'\n",
    "lati, long = 37.4291716932771,127.01650142669679\n",
    "gu, dong = get_location(long, lati)\n",
    "new_row = pd.DataFrame({'구': [gu], '동': [dong], '랜드마크': [landmark], '위도': [lati], '경도': [long]})\n",
    "df = pd.concat([df, new_row], ignore_index=True)"
   ]
  },
  {
   "cell_type": "markdown",
   "metadata": {},
   "source": [
    "## 아차산"
   ]
  },
  {
   "cell_type": "code",
   "execution_count": 50,
   "metadata": {},
   "outputs": [],
   "source": [
    "landmark = '아차산'\n",
    "lati, long = 37.56684202160671,127.10281074746239\n",
    "gu, dong = get_location(long, lati)\n",
    "new_row = pd.DataFrame({'구': [gu], '동': [dong], '랜드마크': [landmark], '위도': [lati], '경도': [long]})\n",
    "df = pd.concat([df, new_row], ignore_index=True)"
   ]
  },
  {
   "cell_type": "markdown",
   "metadata": {},
   "source": [
    "## 여의도한강공원"
   ]
  },
  {
   "cell_type": "code",
   "execution_count": 51,
   "metadata": {},
   "outputs": [],
   "source": [
    "landmark = '여의도한강공원'\n",
    "lati, long = 37.53021472461662,126.93060800980442\n",
    "gu, dong = get_location(long, lati)\n",
    "new_row = pd.DataFrame({'구': [gu], '동': [dong], '랜드마크': [landmark], '위도': [lati], '경도': [long]})\n",
    "df = pd.concat([df, new_row], ignore_index=True)"
   ]
  },
  {
   "cell_type": "markdown",
   "metadata": {},
   "source": [
    "# 최종파일 저장"
   ]
  },
  {
   "cell_type": "code",
   "execution_count": 52,
   "metadata": {},
   "outputs": [
    {
     "data": {
      "text/html": [
       "<div>\n",
       "<style scoped>\n",
       "    .dataframe tbody tr th:only-of-type {\n",
       "        vertical-align: middle;\n",
       "    }\n",
       "\n",
       "    .dataframe tbody tr th {\n",
       "        vertical-align: top;\n",
       "    }\n",
       "\n",
       "    .dataframe thead th {\n",
       "        text-align: right;\n",
       "    }\n",
       "</style>\n",
       "<table border=\"1\" class=\"dataframe\">\n",
       "  <thead>\n",
       "    <tr style=\"text-align: right;\">\n",
       "      <th></th>\n",
       "      <th>구</th>\n",
       "      <th>동</th>\n",
       "      <th>랜드마크</th>\n",
       "      <th>위도</th>\n",
       "      <th>경도</th>\n",
       "    </tr>\n",
       "  </thead>\n",
       "  <tbody>\n",
       "    <tr>\n",
       "      <th>0</th>\n",
       "      <td>강남구</td>\n",
       "      <td>삼성동</td>\n",
       "      <td>강남 MICE 관광특구</td>\n",
       "      <td>37.512028</td>\n",
       "      <td>127.061058</td>\n",
       "    </tr>\n",
       "    <tr>\n",
       "      <th>1</th>\n",
       "      <td>중구</td>\n",
       "      <td>을지로6가</td>\n",
       "      <td>동대문 관광특구</td>\n",
       "      <td>37.56617</td>\n",
       "      <td>127.006232</td>\n",
       "    </tr>\n",
       "    <tr>\n",
       "      <th>2</th>\n",
       "      <td>중구</td>\n",
       "      <td>을지로1가</td>\n",
       "      <td>명동 관광특구</td>\n",
       "      <td>37.566138</td>\n",
       "      <td>126.980632</td>\n",
       "    </tr>\n",
       "    <tr>\n",
       "      <th>3</th>\n",
       "      <td>용산구</td>\n",
       "      <td>이태원동</td>\n",
       "      <td>이태원 관광특구</td>\n",
       "      <td>37.530284</td>\n",
       "      <td>126.991204</td>\n",
       "    </tr>\n",
       "    <tr>\n",
       "      <th>4</th>\n",
       "      <td>송파구</td>\n",
       "      <td>신천동</td>\n",
       "      <td>잠실 관광특구</td>\n",
       "      <td>37.512717</td>\n",
       "      <td>127.100579</td>\n",
       "    </tr>\n",
       "    <tr>\n",
       "      <th>...</th>\n",
       "      <td>...</td>\n",
       "      <td>...</td>\n",
       "      <td>...</td>\n",
       "      <td>...</td>\n",
       "      <td>...</td>\n",
       "    </tr>\n",
       "    <tr>\n",
       "      <th>110</th>\n",
       "      <td>강동구</td>\n",
       "      <td>암사동</td>\n",
       "      <td>광나루한강공원</td>\n",
       "      <td>37.556594</td>\n",
       "      <td>127.123834</td>\n",
       "    </tr>\n",
       "    <tr>\n",
       "      <th>111</th>\n",
       "      <td>서초구</td>\n",
       "      <td>서초동</td>\n",
       "      <td>서리풀공원·몽마르뜨공원</td>\n",
       "      <td>37.491583</td>\n",
       "      <td>127.002683</td>\n",
       "    </tr>\n",
       "    <tr>\n",
       "      <th>112</th>\n",
       "      <td>과천시</td>\n",
       "      <td>막계동</td>\n",
       "      <td>서울대공원</td>\n",
       "      <td>37.429172</td>\n",
       "      <td>127.016501</td>\n",
       "    </tr>\n",
       "    <tr>\n",
       "      <th>113</th>\n",
       "      <td>구리시</td>\n",
       "      <td>아천동</td>\n",
       "      <td>아차산</td>\n",
       "      <td>37.566842</td>\n",
       "      <td>127.102811</td>\n",
       "    </tr>\n",
       "    <tr>\n",
       "      <th>114</th>\n",
       "      <td>영등포구</td>\n",
       "      <td>여의도동</td>\n",
       "      <td>여의도한강공원</td>\n",
       "      <td>37.530215</td>\n",
       "      <td>126.930608</td>\n",
       "    </tr>\n",
       "  </tbody>\n",
       "</table>\n",
       "<p>115 rows × 5 columns</p>\n",
       "</div>"
      ],
      "text/plain": [
       "        구      동          랜드마크         위도          경도\n",
       "0     강남구    삼성동  강남 MICE 관광특구  37.512028  127.061058\n",
       "1      중구  을지로6가      동대문 관광특구   37.56617  127.006232\n",
       "2      중구  을지로1가       명동 관광특구  37.566138  126.980632\n",
       "3     용산구   이태원동      이태원 관광특구  37.530284  126.991204\n",
       "4     송파구    신천동       잠실 관광특구  37.512717  127.100579\n",
       "..    ...    ...           ...        ...         ...\n",
       "110   강동구    암사동       광나루한강공원  37.556594  127.123834\n",
       "111   서초구    서초동  서리풀공원·몽마르뜨공원  37.491583  127.002683\n",
       "112   과천시    막계동         서울대공원  37.429172  127.016501\n",
       "113   구리시    아천동           아차산  37.566842  127.102811\n",
       "114  영등포구   여의도동       여의도한강공원  37.530215  126.930608\n",
       "\n",
       "[115 rows x 5 columns]"
      ]
     },
     "execution_count": 52,
     "metadata": {},
     "output_type": "execute_result"
    }
   ],
   "source": [
    "df"
   ]
  },
  {
   "cell_type": "code",
   "execution_count": 53,
   "metadata": {},
   "outputs": [],
   "source": [
    "df.to_csv('./data/landmark_final.csv', index=False) "
   ]
  },
  {
   "cell_type": "code",
   "execution_count": null,
   "metadata": {},
   "outputs": [],
   "source": []
  }
 ],
 "metadata": {
  "kernelspec": {
   "display_name": "cg",
   "language": "python",
   "name": "python3"
  },
  "language_info": {
   "codemirror_mode": {
    "name": "ipython",
    "version": 3
   },
   "file_extension": ".py",
   "mimetype": "text/x-python",
   "name": "python",
   "nbconvert_exporter": "python",
   "pygments_lexer": "ipython3",
   "version": "3.8.18"
  }
 },
 "nbformat": 4,
 "nbformat_minor": 2
}
